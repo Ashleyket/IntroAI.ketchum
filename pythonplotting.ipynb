{
  "nbformat": 4,
  "nbformat_minor": 0,
  "metadata": {
    "colab": {
      "provenance": [],
      "authorship_tag": "ABX9TyMGFwLyUp+bsHPDtf+M3Jcn",
      "include_colab_link": true
    },
    "kernelspec": {
      "name": "python3",
      "display_name": "Python 3"
    },
    "language_info": {
      "name": "python"
    }
  },
  "cells": [
    {
      "cell_type": "markdown",
      "metadata": {
        "id": "view-in-github",
        "colab_type": "text"
      },
      "source": [
        "<a href=\"https://colab.research.google.com/github/Ashleyket/IntroAI.ketchum/blob/main/pythonplotting.ipynb\" target=\"_parent\"><img src=\"https://colab.research.google.com/assets/colab-badge.svg\" alt=\"Open In Colab\"/></a>"
      ]
    },
    {
      "cell_type": "code",
      "execution_count": 28,
      "metadata": {
        "colab": {
          "base_uri": "https://localhost:8080/"
        },
        "id": "DqJxTsy5eDmJ",
        "outputId": "ebe68f8a-00f8-47b0-efb9-8689c1b60a1c"
      },
      "outputs": [
        {
          "output_type": "stream",
          "name": "stdout",
          "text": [
            "hello\n",
            "hi\n"
          ]
        }
      ],
      "source": [
        "print(\"hello\") ; print(\"hi\")"
      ]
    },
    {
      "cell_type": "code",
      "source": [
        "x=4\n",
        "print(x)"
      ],
      "metadata": {
        "colab": {
          "base_uri": "https://localhost:8080/"
        },
        "id": "6fLY7zykfcY9",
        "outputId": "838a1f25-083b-4f58-ddaf-886d5085deea"
      },
      "execution_count": 7,
      "outputs": [
        {
          "output_type": "stream",
          "name": "stdout",
          "text": [
            "4\n"
          ]
        }
      ]
    },
    {
      "cell_type": "code",
      "source": [
        "x=\"hello\"\n",
        "print(x)"
      ],
      "metadata": {
        "colab": {
          "base_uri": "https://localhost:8080/"
        },
        "id": "AKqcBHQ1gEpF",
        "outputId": "a5d2641f-f817-4c8f-e4ca-46232d9c235b"
      },
      "execution_count": 8,
      "outputs": [
        {
          "output_type": "stream",
          "name": "stdout",
          "text": [
            "hello\n"
          ]
        }
      ]
    },
    {
      "cell_type": "code",
      "source": [
        "# Room temperature is 72 degrees\n",
        "temperature=72"
      ],
      "metadata": {
        "id": "Nlhll8q3h8CD"
      },
      "execution_count": 10,
      "outputs": []
    },
    {
      "cell_type": "code",
      "source": [
        "import matplotlib.pyplot as plt\n",
        "# Make fake data\n",
        "# The \"#\" symbol means a comment\n",
        "# [] is used for lists - so x and y are lists\n",
        "# Note that y is x squared\n",
        "x = [1,2,3,4]\n",
        "y = [1,4,9,16]\n",
        "\n",
        "# plot x and y\n",
        "plt.plot(x,y,'cyan')"
      ],
      "metadata": {
        "colab": {
          "base_uri": "https://localhost:8080/",
          "height": 447
        },
        "id": "V8OSLdTbnaU8",
        "outputId": "da87f53d-4ceb-45ff-94ab-7d6993b0e2f5"
      },
      "execution_count": 33,
      "outputs": [
        {
          "output_type": "execute_result",
          "data": {
            "text/plain": [
              "[<matplotlib.lines.Line2D at 0x7f0e2389c460>]"
            ]
          },
          "metadata": {},
          "execution_count": 33
        },
        {
          "output_type": "display_data",
          "data": {
            "text/plain": [
              "<Figure size 640x480 with 1 Axes>"
            ],
            "image/png": "[encoded data removed]"
          },
          "metadata": {}
        }
      ]
    },
    {
      "cell_type": "code",
      "source": [
        "# Importing plotting libray\n",
        "import matplotlib.pyplot as plt\n",
        ""
      ],
      "metadata": {
        "id": "TOvQcBF3o4Fj"
      },
      "execution_count": 17,
      "outputs": []
    },
    {
      "cell_type": "code",
      "source": [
        "# use numpy\n",
        "import numpy as np\n",
        "# make vector (1-D array);\n",
        "# Technically numpy is converting lists into vectors here\n",
        "x = np.array([1,2,3,4])\n",
        "y = np.array([1,4,9,16])\n",
        "print(x)\n",
        "print(y)\n",
        "# Define y differently\n",
        "# x**2 means x squard\n",
        "y = x**2\n",
        "\n",
        "# show\n",
        "print(y)"
      ],
      "metadata": {
        "colab": {
          "base_uri": "https://localhost:8080/"
        },
        "id": "1L08h0d6rxu7",
        "outputId": "c926443f-380a-48c5-9a5d-225cda640792"
      },
      "execution_count": 35,
      "outputs": [
        {
          "output_type": "stream",
          "name": "stdout",
          "text": [
            "[1 2 3 4]\n",
            "[ 1  4  9 16]\n",
            "[ 1  4  9 16]\n"
          ]
        }
      ]
    }
  ]
}